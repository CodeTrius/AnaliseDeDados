{
 "cells": [
  {
   "cell_type": "markdown",
   "id": "16613340-af7f-4d25-b57f-c66cab3a473d",
   "metadata": {},
   "source": [
    "# Projeto de Otimização: Minimização de Custos Logísticos\n",
    "\n",
    "**Problema:** O objetivo deste projeto é minimizar o custo total de transporte de uma rede de distribuição.\n",
    "\n",
    "Temos 3 Centros de Distribuição (CDs) que precisam atender a demanda de 5 Regiões. Precisamos decidir quanto produto (em unidades) enviar de cada CD para cada Região, respeitando as seguintes regras:\n",
    "\n",
    "1.  A capacidade de envio de cada CD não pode ser excedida.\n",
    "2.  A demanda total de cada Região deve ser exatamente atendida.\n",
    "3.  O custo total de transporte deve ser o menor possível.\n",
    "\n",
    "**Metodologia:**\n",
    "1.  **SQL:** Extrair os dados de capacidade, demanda e custos do nosso banco de dados SQLite.\n",
    "2.  **Estatística:** Analisar os dados (nesta versão, os dados são estáticos, mas em um projeto real, faríamos a previsão da demanda).\n",
    "3.  **Otimização:** Usar Programação Linear (com a biblioteca PuLP) para encontrar a solução ótima."
   ]
  },
  {
   "cell_type": "code",
   "execution_count": 1,
   "id": "9f8039c5-d0a3-4445-a545-2eb49d63ac88",
   "metadata": {},
   "outputs": [],
   "source": [
    "# Importação das bibliotecas necessárias\n",
    "import pandas as pd\n",
    "from sqlalchemy import create_engine\n",
    "from pulp import *"
   ]
  },
  {
   "cell_type": "markdown",
   "id": "29fe23d1-1419-46b7-b911-6bff4da489ed",
   "metadata": {},
   "source": [
    "## 1. Extração de Dados (SQL)\n",
    "\n",
    "Conectamos ao banco de dados `logistica.db` e carregamos nossas tabelas em DataFrames do Pandas."
   ]
  },
  {
   "cell_type": "code",
   "execution_count": 2,
   "id": "91ab070e-05eb-4c8e-b088-be256132e1c9",
   "metadata": {},
   "outputs": [
    {
     "name": "stdout",
     "output_type": "stream",
     "text": [
      "--- Centros de Distribuição (Capacidade) ---\n",
      "| id_cd   | nome           |   capacidade_dia |\n",
      "|:--------|:---------------|-----------------:|\n",
      "| CD1     | Sao Paulo      |             1000 |\n",
      "| CD2     | Rio de Janeiro |              800 |\n",
      "| CD3     | Belo Horizonte |              700 |\n",
      "\n",
      "--- Demandas por Região ---\n",
      "| id_regiao   | nome_regiao        |   demanda_dia |\n",
      "|:------------|:-------------------|--------------:|\n",
      "| R1          | Sul de Minas       |           400 |\n",
      "| R2          | Interior SP        |           700 |\n",
      "| R3          | Capital RJ         |           500 |\n",
      "| R4          | Baixada Fluminense |           300 |\n",
      "| R5          | Grande BH          |           600 |\n",
      "\n",
      "--- Matriz de Custos (CD -> Região) ---\n",
      "| id_cd   | id_regiao   |   custo_por_unidade |\n",
      "|:--------|:------------|--------------------:|\n",
      "| CD1     | R1          |                   5 |\n",
      "| CD1     | R2          |                   3 |\n",
      "| CD1     | R3          |                  10 |\n",
      "| CD1     | R4          |                  12 |\n",
      "| CD1     | R5          |                   8 |\n",
      "| CD2     | R1          |                  11 |\n",
      "| CD2     | R2          |                   9 |\n",
      "| CD2     | R3          |                   2 |\n",
      "| CD2     | R4          |                   3 |\n",
      "| CD2     | R5          |                   7 |\n",
      "| CD3     | R1          |                   4 |\n",
      "| CD3     | R2          |                   6 |\n",
      "| CD3     | R3          |                   7 |\n",
      "| CD3     | R4          |                   9 |\n",
      "| CD3     | R5          |                   2 |\n"
     ]
    }
   ],
   "source": [
    "# Criar a conexão com o banco SQLite\n",
    "engine = create_engine('sqlite:///logistica.db')\n",
    "\n",
    "# Usar queries SQL para carregar os dados\n",
    "centros = pd.read_sql('SELECT * FROM centros', engine)\n",
    "demandas = pd.read_sql('SELECT * FROM demandas', engine)\n",
    "custos = pd.read_sql('SELECT * FROM custos', engine)\n",
    "\n",
    "print(\"--- Centros de Distribuição (Capacidade) ---\")\n",
    "print(centros.to_markdown(index=False))\n",
    "print(\"\\n--- Demandas por Região ---\")\n",
    "print(demandas.to_markdown(index=False))\n",
    "print(\"\\n--- Matriz de Custos (CD -> Região) ---\")\n",
    "print(custos.to_markdown(index=False))"
   ]
  },
  {
   "cell_type": "markdown",
   "id": "97032473-a533-4fe6-b506-c1b9cdd31d7a",
   "metadata": {},
   "source": [
    "## 2. Análise e Preparação dos Dados\n",
    "\n",
    "Antes de alimentar o modelo de otimização, precisamos formatar os dados. A biblioteca PuLP funciona melhor com dicionários do Python.\n",
    "\n",
    "- `capacidade`: Um dicionário `{id_cd: capacidade_dia}`\n",
    "- `demanda`: Um dicionário `{id_regiao: demanda_dia}`\n",
    "- `custos_dict`: Um dicionário aninhado `{id_cd: {id_regiao: custo_por_unidade}}`\n",
    "\n",
    "(Em um projeto real, esta seria a etapa de **Análise Estatística**, onde usaríamos técnicas de previsão (como Séries Temporais) para *estimar* os valores de `demanda_dia` em vez de usá-los como dados fixos.)"
   ]
  },
  {
   "cell_type": "code",
   "execution_count": 3,
   "id": "d4e08138-5819-452b-97f6-f32ace4943e2",
   "metadata": {},
   "outputs": [
    {
     "name": "stdout",
     "output_type": "stream",
     "text": [
      "Capacidades: {'CD1': 1000, 'CD2': 800, 'CD3': 700}\n",
      "Demandas: {'R1': 400, 'R2': 700, 'R3': 500, 'R4': 300, 'R5': 600}\n",
      "Custo (ex: CD1 -> R1): 5\n"
     ]
    }
   ],
   "source": [
    "# 1. Listas de IDs\n",
    "lista_cds = centros['id_cd'].tolist()\n",
    "lista_regioes = demandas['id_regiao'].tolist()\n",
    "\n",
    "# 2. Dicionários de dados\n",
    "capacidade = centros.set_index('id_cd')['capacidade_dia'].to_dict()\n",
    "demanda = demandas.set_index('id_regiao')['demanda_dia'].to_dict()\n",
    "    \n",
    "# 3. Dicionário aninhado para custos\n",
    "# Primeiro, pivotamos o dataframe para ter CDs nas linhas e Regiões nas colunas\n",
    "custos_pivot = custos.pivot(index='id_cd', columns='id_regiao', values='custo_por_unidade')\n",
    "\n",
    "# Depois, convertemos para um dicionário aninhado\n",
    "custos_dict = custos_pivot.to_dict()\n",
    "\n",
    "# Testando os dicionários\n",
    "print(\"Capacidades:\", capacidade)\n",
    "print(\"Demandas:\", demanda)\n",
    "print(\"Custo (ex: CD1 -> R1):\", custos_dict['R1']['CD1']) # Invertido pelo pivot, corrigiremos"
   ]
  },
  {
   "cell_type": "code",
   "execution_count": 4,
   "id": "42b6448d-aa71-4c31-80a1-972a195f46e4",
   "metadata": {},
   "outputs": [
    {
     "name": "stdout",
     "output_type": "stream",
     "text": [
      "Custo (ex: CD1 -> R1): 5\n",
      "Custo (ex: CD3 -> R5): 2\n"
     ]
    }
   ],
   "source": [
    "# Forma mais robusta de criar o dicionário de custos aninhado (custos[cd][regiao])\n",
    "custos_dict = {}\n",
    "for cd in lista_cds:\n",
    "    custos_dict[cd] = {}\n",
    "for idx, row in custos.iterrows():\n",
    "    custos_dict[row['id_cd']][row['id_regiao']] = row['custo_por_unidade']\n",
    "\n",
    "# Testando o dicionário corrigido\n",
    "print(\"Custo (ex: CD1 -> R1):\", custos_dict['CD1']['R1'])\n",
    "print(\"Custo (ex: CD3 -> R5):\", custos_dict['CD3']['R5'])"
   ]
  },
  {
   "cell_type": "markdown",
   "id": "ba1fd062-9ea3-48e1-b959-bd9d646f67fb",
   "metadata": {},
   "source": [
    "## 3. Modelo de Otimização (Programação Linear)\n",
    "\n",
    "Agora, vamos construir o modelo com PuLP."
   ]
  },
  {
   "cell_type": "code",
   "execution_count": 5,
   "id": "298032bf-703e-4a6d-8f65-89e5830b737a",
   "metadata": {},
   "outputs": [
    {
     "data": {
      "text/plain": [
       "1"
      ]
     },
     "execution_count": 5,
     "metadata": {},
     "output_type": "execute_result"
    }
   ],
   "source": [
    "# 1. Inicializa o Problema\n",
    "# Queremos MINIMIZAR, por isso 'LpMinimize'\n",
    "prob = LpProblem(\"Minimizacao_Custos_Frete\", LpMinimize)\n",
    "\n",
    "# 2. Variáveis de Decisão\n",
    "# Criamos uma variável para cada rota possível (ex: CD1 -> R1, CD1 -> R2, etc.)\n",
    "# O nome da variável será 'envio_CD1_R1', por exemplo\n",
    "rotas = [(cd, regiao) for cd in lista_cds for regiao in lista_regioes]\n",
    "x = LpVariable.dicts(\"envio\", (lista_cds, lista_regioes), lowBound=0, cat='Continuous')\n",
    "\n",
    "# 3. Função Objetivo\n",
    "# Queremos minimizar o Custo Total.\n",
    "# Custo Total = SOMA( (custo da rota) * (quantidade enviada na rota) )\n",
    "prob += lpSum([x[cd][regiao] * custos_dict[cd][regiao] for (cd, regiao) in rotas]), \"Custo_Total\"\n",
    "\n",
    "# 4. Restrições\n",
    "\n",
    "# Restrição 1: Respeitar a capacidade de cada CD\n",
    "# A SOMA de tudo que SAI de um CD não pode passar de sua capacidade\n",
    "for cd in lista_cds:\n",
    "    prob += lpSum([x[cd][regiao] for regiao in lista_regioes]) <= capacidade[cd], f\"Capacidade_CD_{cd}\"\n",
    "\n",
    "# Restrição 2: Atender 100% da demanda de cada Região\n",
    "# A SOMA de tudo que CHEGA em uma Região deve ser IGUAL à sua demanda\n",
    "for regiao in lista_regioes:\n",
    "    prob += lpSum([x[cd][regiao] for cd in lista_cds]) == demanda[regiao], f\"Demanda_Regiao_{regiao}\"\n",
    "\n",
    "# 5. Resolver o Problema\n",
    "prob.solve()"
   ]
  },
  {
   "cell_type": "markdown",
   "id": "4bd35d60-257f-440e-9013-29c564a58e20",
   "metadata": {},
   "source": [
    "## 4. Resultados e Conclusão\n",
    "\n",
    "Vamos analisar a solução encontrada pelo otimizador."
   ]
  },
  {
   "cell_type": "code",
   "execution_count": 6,
   "id": "6424e3d4-6e8d-4fd2-bcc2-140444f34654",
   "metadata": {},
   "outputs": [
    {
     "name": "stdout",
     "output_type": "stream",
     "text": [
      "Status da Solução: Optimal\n",
      "Custo Total Ótimo = R$ 7100.00\n",
      "\n",
      "--- Plano de Envio (Unidades) ---\n",
      "Enviar de CD1 para R1: 300.0 unidades\n",
      "Enviar de CD1 para R2: 700.0 unidades\n",
      "Enviar de CD2 para R3: 500.0 unidades\n",
      "Enviar de CD2 para R4: 300.0 unidades\n",
      "Enviar de CD3 para R1: 100.0 unidades\n",
      "Enviar de CD3 para R5: 600.0 unidades\n",
      "\n",
      "--- Utilização da Capacidade ---\n",
      "CD1: Usado 1000.0 / 1000 (Capacidade)\n",
      "CD2: Usado 800.0 / 800 (Capacidade)\n",
      "CD3: Usado 700.0 / 700 (Capacidade)\n"
     ]
    }
   ],
   "source": [
    "# 1. Status da Solução\n",
    "print(\"Status da Solução:\", LpStatus[prob.status])\n",
    "\n",
    "# 2. Custo Total Otimizado\n",
    "print(f\"Custo Total Ótimo = R$ {value(prob.objective):.2f}\")\n",
    "\n",
    "# 3. Plano de Envio Ótimo\n",
    "print(\"\\n--- Plano de Envio (Unidades) ---\")\n",
    "resultados = []\n",
    "for v in prob.variables():\n",
    "    if v.varValue > 0:\n",
    "        # Extrai os nomes para formatar\n",
    "        _, cd, regiao = v.name.split(\"_\")\n",
    "        print(f\"Enviar de {cd} para {regiao}: {v.varValue} unidades\")\n",
    "        resultados.append({'CD': cd, 'Regiao': regiao, 'Unidades': v.varValue})\n",
    "\n",
    "# 4. (Bônus) Verificando as capacidades\n",
    "print(\"\\n--- Utilização da Capacidade ---\")\n",
    "df_resultados = pd.DataFrame(resultados)\n",
    "utilizacao = df_resultados.groupby('CD')['Unidades'].sum()\n",
    "\n",
    "for cd in lista_cds:\n",
    "    print(f\"{cd}: Usado {utilizacao.get(cd, 0)} / {capacidade[cd]} (Capacidade)\")"
   ]
  }
 ],
 "metadata": {
  "kernelspec": {
   "display_name": "Python 3 (ipykernel)",
   "language": "python",
   "name": "python3"
  },
  "language_info": {
   "codemirror_mode": {
    "name": "ipython",
    "version": 3
   },
   "file_extension": ".py",
   "mimetype": "text/x-python",
   "name": "python",
   "nbconvert_exporter": "python",
   "pygments_lexer": "ipython3",
   "version": "3.13.3"
  }
 },
 "nbformat": 4,
 "nbformat_minor": 5
}
