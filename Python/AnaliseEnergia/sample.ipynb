{
 "cells": [
  {
   "metadata": {},
   "cell_type": "markdown",
   "source": [
    "# This is a sample Jupyter Notebook\n",
    "\n",
    "Below is an example of a code cell. \n",
    "Put your cursor into the cell and press Shift+Enter to execute it and select the next one, or click 'Run Cell' button.\n",
    "\n",
    "Press Double Shift to search everywhere for classes, files, tool windows, actions, and settings.\n",
    "\n",
    "To learn more about Jupyter Notebooks in PyCharm, see [help](https://www.jetbrains.com/help/pycharm/ipython-notebook-support.html).\n",
    "For an overview of PyCharm, go to Help -> Learn IDE features or refer to [our documentation](https://www.jetbrains.com/help/pycharm/getting-started.html)."
   ],
   "id": "8a77807f92f26ee"
  },
  {
   "metadata": {
    "ExecuteTime": {
     "end_time": "2025-09-28T21:47:25.044125Z",
     "start_time": "2025-09-28T21:47:15.918786Z"
    }
   },
   "cell_type": "code",
   "source": [
    "# Importar a biblioteca pandas\n",
    "import pandas as pd\n",
    "\n",
    "# O nome do arquivo que você baixou pode ser diferente.\n",
    "# Ajuste o nome do arquivo no código abaixo.\n",
    "# Exemplo: 'Consumo_Mensal_de_Energia_Elétrica_por_Classe_2024.xlsx'\n",
    "caminho_do_arquivo = 'consumo.xlsx'\n",
    "\n",
    "# Carregar os dados. Arquivos do governo brasileiro às vezes usam codificação 'latin-1'.\n",
    "# Se for um arquivo Excel, talvez precise especificar a aba (sheet_name).\n",
    "# Tente primeiro com pd.read_excel(). Se der erro, vamos ajustar.\n",
    "try:\n",
    "    # Tenta carregar como Excel. Pode haver várias abas, então vamos verificar.\n",
    "    # Frequentemente, a aba com os dados se chama 'Consumo' ou algo similar.\n",
    "    # Vamos supor que os dados estão na primeira aba (sheet_name=0) e o cabeçalho na primeira linha (header=0).\n",
    "    df = pd.read_excel(caminho_do_arquivo, sheet_name=0, header=0)\n",
    "except Exception as e:\n",
    "    print(f\"Erro ao ler o arquivo Excel: {e}\")\n",
    "    # Se falhar, podemos tentar ler como CSV\n",
    "    # df = pd.read_csv(caminho_do_arquivo, encoding='latin-1', sep=';')\n",
    "\n",
    "\n",
    "# Exibir as 5 primeiras linhas do nosso DataFrame para ver se carregou corretamente\n",
    "print(df.head())\n",
    "\n",
    "# Exibir informações gerais sobre o DataFrame (tipos de colunas, valores nulos)\n",
    "print(df.info())"
   ],
   "id": "fbc121e30a2defb3",
   "outputs": [
    {
     "name": "stdout",
     "output_type": "stream",
     "text": [
      "        Empresa de Pesquisa Energética - EPE Unnamed: 1 Unnamed: 2 Unnamed: 3  \\\n",
      "0  Consumo de energia elétrica na rede (MWh)        NaN        NaN        NaN   \n",
      "1                            Sistema SIMPLES        NaN        NaN        NaN   \n",
      "2                                        NaN        NaN        NaN        NaN   \n",
      "3                                        NaN      2025*      2025*      2025*   \n",
      "4                                        NaN        JAN        FEV        MAR   \n",
      "\n",
      "  Unnamed: 4 Unnamed: 5 Unnamed: 6 Unnamed: 7 Unnamed: 8 Unnamed: 9  \\\n",
      "0        NaN        NaN        NaN        NaN        NaN        NaN   \n",
      "1        NaN        NaN        NaN        NaN        NaN        NaN   \n",
      "2        NaN        NaN        NaN        NaN        NaN        NaN   \n",
      "3      2025*      2025*      2025*      2025*        NaN        NaN   \n",
      "4        ABR        MAI        JUN        JUL        AGO        SET   \n",
      "\n",
      "  Unnamed: 10 Unnamed: 11 Unnamed: 12 Unnamed: 13  \n",
      "0         NaN         NaN         NaN         NaN  \n",
      "1         NaN         NaN         NaN         NaN  \n",
      "2         NaN         NaN         NaN         NaN  \n",
      "3         NaN         NaN         NaN        2025  \n",
      "4         OUT         NOV         DEZ         ANO  \n",
      "<class 'pandas.core.frame.DataFrame'>\n",
      "RangeIndex: 354 entries, 0 to 353\n",
      "Data columns (total 14 columns):\n",
      " #   Column                                Non-Null Count  Dtype \n",
      "---  ------                                --------------  ----- \n",
      " 0   Empresa de Pesquisa Energética - EPE  289 non-null    object\n",
      " 1   Unnamed: 1                            286 non-null    object\n",
      " 2   Unnamed: 2                            286 non-null    object\n",
      " 3   Unnamed: 3                            286 non-null    object\n",
      " 4   Unnamed: 4                            286 non-null    object\n",
      " 5   Unnamed: 5                            286 non-null    object\n",
      " 6   Unnamed: 6                            286 non-null    object\n",
      " 7   Unnamed: 7                            286 non-null    object\n",
      " 8   Unnamed: 8                            274 non-null    object\n",
      " 9   Unnamed: 9                            274 non-null    object\n",
      " 10  Unnamed: 10                           274 non-null    object\n",
      " 11  Unnamed: 11                           274 non-null    object\n",
      " 12  Unnamed: 12                           274 non-null    object\n",
      " 13  Unnamed: 13                           286 non-null    object\n",
      "dtypes: object(14)\n",
      "memory usage: 38.8+ KB\n",
      "None\n"
     ]
    }
   ],
   "execution_count": 3
  },
  {
   "metadata": {
    "ExecuteTime": {
     "end_time": "2025-09-28T23:38:01.366511Z",
     "start_time": "2025-09-28T23:37:14.394838Z"
    }
   },
   "cell_type": "code",
   "source": [
    "import pandas as pd\n",
    "\n",
    "# --- CARREGAR OS DADOS (como no passo anterior) ---\n",
    "nome_do_arquivo = 'CONSUMO MENSAL DE ENERGIA ELÉTRICA POR CLASSE.xlsx - TOTAL.csv'\n",
    "# Pulamos as linhas de cabeçalho do arquivo da EPE\n",
    "df = pd.read_csv(nome_do_arquivo, skiprows=5)\n",
    "\n",
    "\n",
    "# --- LIMPEZA E TRANSFORMAÇÃO ---\n",
    "\n",
    "# 1. Renomear a primeira coluna para algo mais claro\n",
    "#    O nome original pode ser 'Unnamed: 0' ou algo parecido.\n",
    "df = df.rename(columns={df.columns[0]: 'localidade'})\n",
    "\n",
    "# 2. Remover colunas vazias que o pandas pode ter criado no final\n",
    "df = df.dropna(axis=1, how='all')\n",
    "\n",
    "# 3. Transformar a tabela de 'wide' para 'long'\n",
    "#    Isso vai transformar todas as colunas de data em linhas,\n",
    "#    criando uma estrutura ideal para análise.\n",
    "df_longo = pd.melt(df, id_vars=['localidade'], var_name='mes_ano', value_name='consumo')\n",
    "\n",
    "# 4. Limpar a coluna 'mes_ano' e criar colunas separadas para 'ano' e 'mes'\n",
    "#    A coluna 'mes_ano' vem com o formato 'JAN.2004', 'FEV.2004', etc.\n",
    "df_longo[['mes', 'ano']] = df_longo['mes_ano'].str.split('.', expand=True)\n",
    "\n",
    "# 5. Converter a coluna 'consumo' para um formato numérico, tratando erros.\n",
    "#    'coerce' transforma qualquer valor que não seja número em 'NaN' (Not a Number)\n",
    "df_longo['consumo'] = pd.to_numeric(df_longo['consumo'], errors='coerce')\n",
    "\n",
    "# 6. Remover linhas onde o consumo seja nulo (geralmente linhas de totais ou rodapés)\n",
    "df_longo = df_longo.dropna(subset=['consumo'])\n",
    "\n",
    "# 7. Criar um mapa para converter os meses (texto) para número\n",
    "mapa_meses = {\n",
    "    'JAN': 1, 'FEV': 2, 'MAR': 3, 'ABR': 4, 'MAI': 5, 'JUN': 6,\n",
    "    'JUL': 7, 'AGO': 8, 'SET': 9, 'OUT': 10, 'NOV': 11, 'DEZ': 12\n",
    "}\n",
    "df_longo['mes_num'] = df_longo['mes'].map(mapa_meses)\n",
    "\n",
    "# 8. Criar uma coluna de data real (datetime)\n",
    "#    Isso nos permite trabalhar com as datas de forma muito mais poderosa.\n",
    "#    O ano e o mes_num precisam ser strings para serem concatenados.\n",
    "df_longo['data'] = pd.to_datetime(df_longo['ano'].astype(str) + '-' + df_longo['mes_num'].astype(str) + '-01')\n",
    "\n",
    "# 9. Limpeza final: selecionar e reordenar as colunas que vamos usar\n",
    "df_final = df_longo[['data', 'localidade', 'consumo']].sort_values(by='data')\n",
    "\n",
    "\n",
    "# --- VERIFICAR O RESULTADO ---\n",
    "\n",
    "print(\"Transformação concluída! Veja como ficou a nova estrutura dos dados:\")\n",
    "print(df_final.head()) # Mostra as primeiras 5 linhas\n",
    "\n",
    "print(\"\\nE as informações do novo DataFrame:\")\n",
    "print(df_final.info()) # Mostra os tipos de dados e se há valores nulos\n",
    "\n",
    "print(\"\\nAlguns exemplos de localidades presentes na análise:\")\n",
    "print(df_final['localidade'].unique())"
   ],
   "id": "8a12c69c742ccd9f",
   "outputs": [
    {
     "ename": "FileNotFoundError",
     "evalue": "[Errno 2] No such file or directory: 'CONSUMO MENSAL DE ENERGIA ELÉTRICA POR CLASSE.xlsx - TOTAL.csv'",
     "output_type": "error",
     "traceback": [
      "\u001B[31m---------------------------------------------------------------------------\u001B[39m",
      "\u001B[31mFileNotFoundError\u001B[39m                         Traceback (most recent call last)",
      "\u001B[36mCell\u001B[39m\u001B[36m \u001B[39m\u001B[32mIn[4]\u001B[39m\u001B[32m, line 6\u001B[39m\n\u001B[32m      4\u001B[39m nome_do_arquivo = \u001B[33m'\u001B[39m\u001B[33mCONSUMO MENSAL DE ENERGIA ELÉTRICA POR CLASSE.xlsx - TOTAL.csv\u001B[39m\u001B[33m'\u001B[39m\n\u001B[32m      5\u001B[39m \u001B[38;5;66;03m# Pulamos as linhas de cabeçalho do arquivo da EPE\u001B[39;00m\n\u001B[32m----> \u001B[39m\u001B[32m6\u001B[39m df = \u001B[43mpd\u001B[49m\u001B[43m.\u001B[49m\u001B[43mread_csv\u001B[49m\u001B[43m(\u001B[49m\u001B[43mnome_do_arquivo\u001B[49m\u001B[43m,\u001B[49m\u001B[43m \u001B[49m\u001B[43mskiprows\u001B[49m\u001B[43m=\u001B[49m\u001B[32;43m5\u001B[39;49m\u001B[43m)\u001B[49m\n\u001B[32m      9\u001B[39m \u001B[38;5;66;03m# --- LIMPEZA E TRANSFORMAÇÃO ---\u001B[39;00m\n\u001B[32m     10\u001B[39m \n\u001B[32m     11\u001B[39m \u001B[38;5;66;03m# 1. Renomear a primeira coluna para algo mais claro\u001B[39;00m\n\u001B[32m     12\u001B[39m \u001B[38;5;66;03m#    O nome original pode ser 'Unnamed: 0' ou algo parecido.\u001B[39;00m\n\u001B[32m     13\u001B[39m df = df.rename(columns={df.columns[\u001B[32m0\u001B[39m]: \u001B[33m'\u001B[39m\u001B[33mlocalidade\u001B[39m\u001B[33m'\u001B[39m})\n",
      "\u001B[36mFile \u001B[39m\u001B[32m~\\AppData\\Local\\Programs\\Python\\Python313\\Lib\\site-packages\\pandas\\io\\parsers\\readers.py:1026\u001B[39m, in \u001B[36mread_csv\u001B[39m\u001B[34m(filepath_or_buffer, sep, delimiter, header, names, index_col, usecols, dtype, engine, converters, true_values, false_values, skipinitialspace, skiprows, skipfooter, nrows, na_values, keep_default_na, na_filter, verbose, skip_blank_lines, parse_dates, infer_datetime_format, keep_date_col, date_parser, date_format, dayfirst, cache_dates, iterator, chunksize, compression, thousands, decimal, lineterminator, quotechar, quoting, doublequote, escapechar, comment, encoding, encoding_errors, dialect, on_bad_lines, delim_whitespace, low_memory, memory_map, float_precision, storage_options, dtype_backend)\u001B[39m\n\u001B[32m   1013\u001B[39m kwds_defaults = _refine_defaults_read(\n\u001B[32m   1014\u001B[39m     dialect,\n\u001B[32m   1015\u001B[39m     delimiter,\n\u001B[32m   (...)\u001B[39m\u001B[32m   1022\u001B[39m     dtype_backend=dtype_backend,\n\u001B[32m   1023\u001B[39m )\n\u001B[32m   1024\u001B[39m kwds.update(kwds_defaults)\n\u001B[32m-> \u001B[39m\u001B[32m1026\u001B[39m \u001B[38;5;28;01mreturn\u001B[39;00m \u001B[43m_read\u001B[49m\u001B[43m(\u001B[49m\u001B[43mfilepath_or_buffer\u001B[49m\u001B[43m,\u001B[49m\u001B[43m \u001B[49m\u001B[43mkwds\u001B[49m\u001B[43m)\u001B[49m\n",
      "\u001B[36mFile \u001B[39m\u001B[32m~\\AppData\\Local\\Programs\\Python\\Python313\\Lib\\site-packages\\pandas\\io\\parsers\\readers.py:620\u001B[39m, in \u001B[36m_read\u001B[39m\u001B[34m(filepath_or_buffer, kwds)\u001B[39m\n\u001B[32m    617\u001B[39m _validate_names(kwds.get(\u001B[33m\"\u001B[39m\u001B[33mnames\u001B[39m\u001B[33m\"\u001B[39m, \u001B[38;5;28;01mNone\u001B[39;00m))\n\u001B[32m    619\u001B[39m \u001B[38;5;66;03m# Create the parser.\u001B[39;00m\n\u001B[32m--> \u001B[39m\u001B[32m620\u001B[39m parser = \u001B[43mTextFileReader\u001B[49m\u001B[43m(\u001B[49m\u001B[43mfilepath_or_buffer\u001B[49m\u001B[43m,\u001B[49m\u001B[43m \u001B[49m\u001B[43m*\u001B[49m\u001B[43m*\u001B[49m\u001B[43mkwds\u001B[49m\u001B[43m)\u001B[49m\n\u001B[32m    622\u001B[39m \u001B[38;5;28;01mif\u001B[39;00m chunksize \u001B[38;5;129;01mor\u001B[39;00m iterator:\n\u001B[32m    623\u001B[39m     \u001B[38;5;28;01mreturn\u001B[39;00m parser\n",
      "\u001B[36mFile \u001B[39m\u001B[32m~\\AppData\\Local\\Programs\\Python\\Python313\\Lib\\site-packages\\pandas\\io\\parsers\\readers.py:1620\u001B[39m, in \u001B[36mTextFileReader.__init__\u001B[39m\u001B[34m(self, f, engine, **kwds)\u001B[39m\n\u001B[32m   1617\u001B[39m     \u001B[38;5;28mself\u001B[39m.options[\u001B[33m\"\u001B[39m\u001B[33mhas_index_names\u001B[39m\u001B[33m\"\u001B[39m] = kwds[\u001B[33m\"\u001B[39m\u001B[33mhas_index_names\u001B[39m\u001B[33m\"\u001B[39m]\n\u001B[32m   1619\u001B[39m \u001B[38;5;28mself\u001B[39m.handles: IOHandles | \u001B[38;5;28;01mNone\u001B[39;00m = \u001B[38;5;28;01mNone\u001B[39;00m\n\u001B[32m-> \u001B[39m\u001B[32m1620\u001B[39m \u001B[38;5;28mself\u001B[39m._engine = \u001B[38;5;28;43mself\u001B[39;49m\u001B[43m.\u001B[49m\u001B[43m_make_engine\u001B[49m\u001B[43m(\u001B[49m\u001B[43mf\u001B[49m\u001B[43m,\u001B[49m\u001B[43m \u001B[49m\u001B[38;5;28;43mself\u001B[39;49m\u001B[43m.\u001B[49m\u001B[43mengine\u001B[49m\u001B[43m)\u001B[49m\n",
      "\u001B[36mFile \u001B[39m\u001B[32m~\\AppData\\Local\\Programs\\Python\\Python313\\Lib\\site-packages\\pandas\\io\\parsers\\readers.py:1880\u001B[39m, in \u001B[36mTextFileReader._make_engine\u001B[39m\u001B[34m(self, f, engine)\u001B[39m\n\u001B[32m   1878\u001B[39m     \u001B[38;5;28;01mif\u001B[39;00m \u001B[33m\"\u001B[39m\u001B[33mb\u001B[39m\u001B[33m\"\u001B[39m \u001B[38;5;129;01mnot\u001B[39;00m \u001B[38;5;129;01min\u001B[39;00m mode:\n\u001B[32m   1879\u001B[39m         mode += \u001B[33m\"\u001B[39m\u001B[33mb\u001B[39m\u001B[33m\"\u001B[39m\n\u001B[32m-> \u001B[39m\u001B[32m1880\u001B[39m \u001B[38;5;28mself\u001B[39m.handles = \u001B[43mget_handle\u001B[49m\u001B[43m(\u001B[49m\n\u001B[32m   1881\u001B[39m \u001B[43m    \u001B[49m\u001B[43mf\u001B[49m\u001B[43m,\u001B[49m\n\u001B[32m   1882\u001B[39m \u001B[43m    \u001B[49m\u001B[43mmode\u001B[49m\u001B[43m,\u001B[49m\n\u001B[32m   1883\u001B[39m \u001B[43m    \u001B[49m\u001B[43mencoding\u001B[49m\u001B[43m=\u001B[49m\u001B[38;5;28;43mself\u001B[39;49m\u001B[43m.\u001B[49m\u001B[43moptions\u001B[49m\u001B[43m.\u001B[49m\u001B[43mget\u001B[49m\u001B[43m(\u001B[49m\u001B[33;43m\"\u001B[39;49m\u001B[33;43mencoding\u001B[39;49m\u001B[33;43m\"\u001B[39;49m\u001B[43m,\u001B[49m\u001B[43m \u001B[49m\u001B[38;5;28;43;01mNone\u001B[39;49;00m\u001B[43m)\u001B[49m\u001B[43m,\u001B[49m\n\u001B[32m   1884\u001B[39m \u001B[43m    \u001B[49m\u001B[43mcompression\u001B[49m\u001B[43m=\u001B[49m\u001B[38;5;28;43mself\u001B[39;49m\u001B[43m.\u001B[49m\u001B[43moptions\u001B[49m\u001B[43m.\u001B[49m\u001B[43mget\u001B[49m\u001B[43m(\u001B[49m\u001B[33;43m\"\u001B[39;49m\u001B[33;43mcompression\u001B[39;49m\u001B[33;43m\"\u001B[39;49m\u001B[43m,\u001B[49m\u001B[43m \u001B[49m\u001B[38;5;28;43;01mNone\u001B[39;49;00m\u001B[43m)\u001B[49m\u001B[43m,\u001B[49m\n\u001B[32m   1885\u001B[39m \u001B[43m    \u001B[49m\u001B[43mmemory_map\u001B[49m\u001B[43m=\u001B[49m\u001B[38;5;28;43mself\u001B[39;49m\u001B[43m.\u001B[49m\u001B[43moptions\u001B[49m\u001B[43m.\u001B[49m\u001B[43mget\u001B[49m\u001B[43m(\u001B[49m\u001B[33;43m\"\u001B[39;49m\u001B[33;43mmemory_map\u001B[39;49m\u001B[33;43m\"\u001B[39;49m\u001B[43m,\u001B[49m\u001B[43m \u001B[49m\u001B[38;5;28;43;01mFalse\u001B[39;49;00m\u001B[43m)\u001B[49m\u001B[43m,\u001B[49m\n\u001B[32m   1886\u001B[39m \u001B[43m    \u001B[49m\u001B[43mis_text\u001B[49m\u001B[43m=\u001B[49m\u001B[43mis_text\u001B[49m\u001B[43m,\u001B[49m\n\u001B[32m   1887\u001B[39m \u001B[43m    \u001B[49m\u001B[43merrors\u001B[49m\u001B[43m=\u001B[49m\u001B[38;5;28;43mself\u001B[39;49m\u001B[43m.\u001B[49m\u001B[43moptions\u001B[49m\u001B[43m.\u001B[49m\u001B[43mget\u001B[49m\u001B[43m(\u001B[49m\u001B[33;43m\"\u001B[39;49m\u001B[33;43mencoding_errors\u001B[39;49m\u001B[33;43m\"\u001B[39;49m\u001B[43m,\u001B[49m\u001B[43m \u001B[49m\u001B[33;43m\"\u001B[39;49m\u001B[33;43mstrict\u001B[39;49m\u001B[33;43m\"\u001B[39;49m\u001B[43m)\u001B[49m\u001B[43m,\u001B[49m\n\u001B[32m   1888\u001B[39m \u001B[43m    \u001B[49m\u001B[43mstorage_options\u001B[49m\u001B[43m=\u001B[49m\u001B[38;5;28;43mself\u001B[39;49m\u001B[43m.\u001B[49m\u001B[43moptions\u001B[49m\u001B[43m.\u001B[49m\u001B[43mget\u001B[49m\u001B[43m(\u001B[49m\u001B[33;43m\"\u001B[39;49m\u001B[33;43mstorage_options\u001B[39;49m\u001B[33;43m\"\u001B[39;49m\u001B[43m,\u001B[49m\u001B[43m \u001B[49m\u001B[38;5;28;43;01mNone\u001B[39;49;00m\u001B[43m)\u001B[49m\u001B[43m,\u001B[49m\n\u001B[32m   1889\u001B[39m \u001B[43m\u001B[49m\u001B[43m)\u001B[49m\n\u001B[32m   1890\u001B[39m \u001B[38;5;28;01massert\u001B[39;00m \u001B[38;5;28mself\u001B[39m.handles \u001B[38;5;129;01mis\u001B[39;00m \u001B[38;5;129;01mnot\u001B[39;00m \u001B[38;5;28;01mNone\u001B[39;00m\n\u001B[32m   1891\u001B[39m f = \u001B[38;5;28mself\u001B[39m.handles.handle\n",
      "\u001B[36mFile \u001B[39m\u001B[32m~\\AppData\\Local\\Programs\\Python\\Python313\\Lib\\site-packages\\pandas\\io\\common.py:873\u001B[39m, in \u001B[36mget_handle\u001B[39m\u001B[34m(path_or_buf, mode, encoding, compression, memory_map, is_text, errors, storage_options)\u001B[39m\n\u001B[32m    868\u001B[39m \u001B[38;5;28;01melif\u001B[39;00m \u001B[38;5;28misinstance\u001B[39m(handle, \u001B[38;5;28mstr\u001B[39m):\n\u001B[32m    869\u001B[39m     \u001B[38;5;66;03m# Check whether the filename is to be opened in binary mode.\u001B[39;00m\n\u001B[32m    870\u001B[39m     \u001B[38;5;66;03m# Binary mode does not support 'encoding' and 'newline'.\u001B[39;00m\n\u001B[32m    871\u001B[39m     \u001B[38;5;28;01mif\u001B[39;00m ioargs.encoding \u001B[38;5;129;01mand\u001B[39;00m \u001B[33m\"\u001B[39m\u001B[33mb\u001B[39m\u001B[33m\"\u001B[39m \u001B[38;5;129;01mnot\u001B[39;00m \u001B[38;5;129;01min\u001B[39;00m ioargs.mode:\n\u001B[32m    872\u001B[39m         \u001B[38;5;66;03m# Encoding\u001B[39;00m\n\u001B[32m--> \u001B[39m\u001B[32m873\u001B[39m         handle = \u001B[38;5;28;43mopen\u001B[39;49m\u001B[43m(\u001B[49m\n\u001B[32m    874\u001B[39m \u001B[43m            \u001B[49m\u001B[43mhandle\u001B[49m\u001B[43m,\u001B[49m\n\u001B[32m    875\u001B[39m \u001B[43m            \u001B[49m\u001B[43mioargs\u001B[49m\u001B[43m.\u001B[49m\u001B[43mmode\u001B[49m\u001B[43m,\u001B[49m\n\u001B[32m    876\u001B[39m \u001B[43m            \u001B[49m\u001B[43mencoding\u001B[49m\u001B[43m=\u001B[49m\u001B[43mioargs\u001B[49m\u001B[43m.\u001B[49m\u001B[43mencoding\u001B[49m\u001B[43m,\u001B[49m\n\u001B[32m    877\u001B[39m \u001B[43m            \u001B[49m\u001B[43merrors\u001B[49m\u001B[43m=\u001B[49m\u001B[43merrors\u001B[49m\u001B[43m,\u001B[49m\n\u001B[32m    878\u001B[39m \u001B[43m            \u001B[49m\u001B[43mnewline\u001B[49m\u001B[43m=\u001B[49m\u001B[33;43m\"\u001B[39;49m\u001B[33;43m\"\u001B[39;49m\u001B[43m,\u001B[49m\n\u001B[32m    879\u001B[39m \u001B[43m        \u001B[49m\u001B[43m)\u001B[49m\n\u001B[32m    880\u001B[39m     \u001B[38;5;28;01melse\u001B[39;00m:\n\u001B[32m    881\u001B[39m         \u001B[38;5;66;03m# Binary mode\u001B[39;00m\n\u001B[32m    882\u001B[39m         handle = \u001B[38;5;28mopen\u001B[39m(handle, ioargs.mode)\n",
      "\u001B[31mFileNotFoundError\u001B[39m: [Errno 2] No such file or directory: 'CONSUMO MENSAL DE ENERGIA ELÉTRICA POR CLASSE.xlsx - TOTAL.csv'"
     ]
    }
   ],
   "execution_count": 4
  }
 ],
 "metadata": {
  "kernelspec": {
   "display_name": "Python 3",
   "language": "python",
   "name": "python3"
  },
  "language_info": {
   "codemirror_mode": {
    "name": "ipython",
    "version": 2
   },
   "file_extension": ".py",
   "mimetype": "text/x-python",
   "name": "python",
   "nbconvert_exporter": "python",
   "pygments_lexer": "ipython2",
   "version": "2.7.6"
  }
 },
 "nbformat": 4,
 "nbformat_minor": 5
}
